{
 "cells": [
  {
   "cell_type": "code",
   "execution_count": 6,
   "metadata": {},
   "outputs": [
    {
     "name": "stdout",
     "output_type": "stream",
     "text": [
      "image datatype is<class 'numpy.ndarray'>\n"
     ]
    }
   ],
   "source": [
    "import cv2\n",
    "# 定义图像路径\n",
    "path = r'C:\\Users\\15947\\Documents\\My_Projects\\rgb_recognize\\img\\rgb_0_0_255.jpg'\n",
    "# 尝试读取图像\n",
    "image = cv2.imread(path)\n",
    "print(f'image datatype is{type(image)}')\n",
    "if image is None:\n",
    "    print(f\"Failed to load image from path: {path}\")\n",
    "else:\n",
    "    # 检查图像尺寸\n",
    "    if image.size == 0:\n",
    "        print(f\"Image loaded but has invalid size: {path}\")\n",
    "    else:\n",
    "        # 将图像从BGR转换为RGB\n",
    "        image = cv2.cvtColor(image, cv2.COLOR_BGR2RGB)\n",
    "        # 显示图像\n",
    "        cv2.imshow('color image', image)\n",
    "        cv2.waitKey(0)  # 等待按键事件\n",
    "        cv2.destroyAllWindows()  # 关闭所有OpenCV窗口"
   ]
  },
  {
   "cell_type": "code",
   "execution_count": 7,
   "metadata": {},
   "outputs": [
    {
     "name": "stdout",
     "output_type": "stream",
     "text": [
      "Pixel at (240, 193): R=159, G=128, B=95\n",
      "Pixel at (239, 312): R=159, G=128, B=95\n"
     ]
    }
   ],
   "source": [
    "import cv2\n",
    "import numpy as np\n",
    "ix=-1\n",
    "iy=-1\n",
    "# 定义鼠标回调函数\n",
    "def mouse_callback(event, x, y, flags, param):\n",
    "    global canvas,ix, iy, shape\n",
    "    if event == cv2.EVENT_LBUTTONDOWN:\n",
    "        drawing = True#按下鼠标开始画画\n",
    "        ix, iy = x, y\n",
    "        r, g, b = canvas[y, x]\n",
    "        print(f\"Pixel at ({x}, {y}): R={r}, G={g}, B={b}\")\n",
    "\n",
    "# 读取图片\n",
    "canvas = cv2.imread(r'C:\\Users\\15947\\Documents\\My_Projects\\rgb_recognize\\img\\rgb_96_128_160.jpg')\n",
    "\n",
    "cv2.namedWindow('color_picker')\n",
    "cv2.setMouseCallback('color_picker', mouse_callback)\n",
    "#canvas = np.zeros((480, 640, 3), dtype=np.uint8)#画布\n",
    "# 显示图片\n",
    "while True:\n",
    "    cv2.imshow('color_picker', canvas)#名字一样可以同步成一个画布\n",
    "\n",
    "    if cv2.waitKey(1) & 0xFF == 27:  # 按下 ESC 键退出\n",
    "        break\n",
    "\n",
    "# 销毁所有窗口\n",
    "cv2.destroyAllWindows() \n"
   ]
  },
  {
   "cell_type": "code",
   "execution_count": 1,
   "metadata": {},
   "outputs": [],
   "source": [
    "import cv2\n",
    "# 定义图像路径\n",
    "file = r'C:\\Users\\15947\\Documents\\My_Projects\\rgb_recognize\\img\\rgb_0_0_255.jpg'\n",
    "if file.endswith('.jpg') or file.endswith('.png') or file.endswith('.jpeg'):\n",
    "    img=cv2.imread(file)\n",
    "    cv2.imshow('image',img)\n",
    "    cv2.waitKey(0)\n",
    "    cv2.destroyAllWindows()"
   ]
  }
 ],
 "metadata": {
  "kernelspec": {
   "display_name": "data_analysis",
   "language": "python",
   "name": "python3"
  },
  "language_info": {
   "codemirror_mode": {
    "name": "ipython",
    "version": 3
   },
   "file_extension": ".py",
   "mimetype": "text/x-python",
   "name": "python",
   "nbconvert_exporter": "python",
   "pygments_lexer": "ipython3",
   "version": "3.12.0"
  }
 },
 "nbformat": 4,
 "nbformat_minor": 2
}
