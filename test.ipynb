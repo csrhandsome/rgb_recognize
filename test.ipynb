{
 "cells": [
  {
   "cell_type": "code",
   "execution_count": 2,
   "metadata": {},
   "outputs": [],
   "source": [
    "import cv2\n",
    "# 定义图像路径\n",
    "path = r'C:\\Users\\15947\\Documents\\My_Projects\\rgb_recognize\\img\\rgb_0_0_255.jpg'\n",
    "# 尝试读取图像\n",
    "image = cv2.imread(path)\n",
    "if image is None:\n",
    "    print(f\"Failed to load image from path: {path}\")\n",
    "else:\n",
    "    # 检查图像尺寸\n",
    "    if image.size == 0:\n",
    "        print(f\"Image loaded but has invalid size: {path}\")\n",
    "    else:\n",
    "        # 将图像从BGR转换为RGB\n",
    "        image = cv2.cvtColor(image, cv2.COLOR_BGR2RGB)\n",
    "        # 显示图像\n",
    "        cv2.imshow('color image', image)\n",
    "        cv2.waitKey(0)  # 等待按键事件\n",
    "        cv2.destroyAllWindows()  # 关闭所有OpenCV窗口"
   ]
  }
 ],
 "metadata": {
  "kernelspec": {
   "display_name": "data_analysis",
   "language": "python",
   "name": "python3"
  },
  "language_info": {
   "codemirror_mode": {
    "name": "ipython",
    "version": 3
   },
   "file_extension": ".py",
   "mimetype": "text/x-python",
   "name": "python",
   "nbconvert_exporter": "python",
   "pygments_lexer": "ipython3",
   "version": "3.12.0"
  }
 },
 "nbformat": 4,
 "nbformat_minor": 2
}
